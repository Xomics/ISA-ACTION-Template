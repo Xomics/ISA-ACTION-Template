{
 "cells": [
  {
   "cell_type": "markdown",
   "id": "36fb0a11",
   "metadata": {},
   "source": [
    "## Reading ISA files"
   ]
  },
  {
   "cell_type": "code",
   "execution_count": 1,
   "id": "e61f4e83",
   "metadata": {},
   "outputs": [
    {
     "data": {
      "text/plain": [
       "['a_assay_genotype.txt',\n",
       " 'a_assay_metabolomics_amines.txt',\n",
       " 'a_assay_metabolomics_OA.txt',\n",
       " 'a_assay_metabolomics_steroids.txt',\n",
       " 'a_assay_methylation.txt',\n",
       " 'isa.json',\n",
       " 'i_investigation.txt',\n",
       " 's_study.txt']"
      ]
     },
     "execution_count": 1,
     "metadata": {},
     "output_type": "execute_result"
    }
   ],
   "source": [
    "import os\n",
    "os.listdir(\"isa_template\")"
   ]
  },
  {
   "cell_type": "code",
   "execution_count": null,
   "id": "47cdf908",
   "metadata": {},
   "outputs": [],
   "source": [
    "from isatools import isatab\n",
    "isa = isatab.load(open(\"isa_template/i_investigation.txt\"))"
   ]
  },
  {
   "cell_type": "markdown",
   "id": "3985debc",
   "metadata": {},
   "source": [
    "### Retrieve information about investigation"
   ]
  },
  {
   "cell_type": "code",
   "execution_count": null,
   "id": "01a11dc5",
   "metadata": {},
   "outputs": [],
   "source": [
    "isa.title"
   ]
  },
  {
   "cell_type": "code",
   "execution_count": null,
   "id": "8d4ca0de",
   "metadata": {},
   "outputs": [],
   "source": [
    "isa.description"
   ]
  },
  {
   "cell_type": "code",
   "execution_count": null,
   "id": "9495e668",
   "metadata": {},
   "outputs": [],
   "source": [
    "isa.contacts"
   ]
  },
  {
   "cell_type": "markdown",
   "id": "158a939d",
   "metadata": {},
   "source": [
    "### Information about study"
   ]
  },
  {
   "cell_type": "code",
   "execution_count": null,
   "id": "fe2d0596",
   "metadata": {},
   "outputs": [],
   "source": [
    "[s.title for s in isa.studies]"
   ]
  },
  {
   "cell_type": "markdown",
   "id": "109e9d8d",
   "metadata": {},
   "source": [
    "### Information about assays"
   ]
  },
  {
   "cell_type": "code",
   "execution_count": null,
   "id": "5ef8cca3",
   "metadata": {},
   "outputs": [],
   "source": [
    "[a.filename for a in isa.studies[0].assays]"
   ]
  }
 ],
 "metadata": {
  "kernelspec": {
   "display_name": "Python [conda env:python3isa] *",
   "language": "python",
   "name": "conda-env-python3isa-py"
  },
  "language_info": {
   "codemirror_mode": {
    "name": "ipython",
    "version": 3
   },
   "file_extension": ".py",
   "mimetype": "text/x-python",
   "name": "python",
   "nbconvert_exporter": "python",
   "pygments_lexer": "ipython3",
   "version": "3.9.6"
  }
 },
 "nbformat": 4,
 "nbformat_minor": 5
}
