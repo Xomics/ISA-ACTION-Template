{
 "cells": [
  {
   "cell_type": "markdown",
   "id": "7f6c9adc",
   "metadata": {},
   "source": [
    "## Reading ISA files"
   ]
  },
  {
   "cell_type": "code",
   "execution_count": 1,
   "id": "6fed4188",
   "metadata": {},
   "outputs": [
    {
     "data": {
      "text/plain": [
       "['a_assay_genotype.txt',\n",
       " 'a_assay_metabolomics_amines.txt',\n",
       " 'a_assay_metabolomics_OA.txt',\n",
       " 'a_assay_metabolomics_steroids.txt',\n",
       " 'a_assay_methylation.txt',\n",
       " 'isa.json',\n",
       " 'i_investigation.txt',\n",
       " 's_study.txt']"
      ]
     },
     "execution_count": 1,
     "metadata": {},
     "output_type": "execute_result"
    }
   ],
   "source": [
    "import os\n",
    "os.listdir(\"isa_template\")"
   ]
  },
  {
   "cell_type": "code",
   "execution_count": 2,
   "id": "a8d006fa",
   "metadata": {},
   "outputs": [
    {
     "name": "stderr",
     "output_type": "stream",
     "text": [
      "2022-04-08 10:08:21,172 [INFO]: isatab.py(preprocess:5276) >> warning: Protocol REF missing between 'Data Transformation Name' and 'Normalization Name'\n",
      "2022-04-08 10:08:21,175 [INFO]: isatab.py(preprocess:5321) >> Inserting protocol unknown in between Data Transformation Name and Normalization Name\n"
     ]
    },
    {
     "ename": "ValueError",
     "evalue": "('Could not resolve Protocol parameter from Parameter Value ', 'Mass Analyzer')",
     "output_type": "error",
     "traceback": [
      "\u001b[1;31m---------------------------------------------------------------------------\u001b[0m",
      "\u001b[1;31mValueError\u001b[0m                                Traceback (most recent call last)",
      "Input \u001b[1;32mIn [2]\u001b[0m, in \u001b[0;36m<cell line: 2>\u001b[1;34m()\u001b[0m\n\u001b[0;32m      1\u001b[0m \u001b[38;5;28;01mfrom\u001b[39;00m \u001b[38;5;21;01misatools\u001b[39;00m \u001b[38;5;28;01mimport\u001b[39;00m isatab\n\u001b[0;32m      2\u001b[0m \u001b[38;5;28;01mwith\u001b[39;00m \u001b[38;5;28mopen\u001b[39m(\u001b[38;5;124m\"\u001b[39m\u001b[38;5;124misa_template/i_investigation.txt\u001b[39m\u001b[38;5;124m\"\u001b[39m) \u001b[38;5;28;01mas\u001b[39;00m f:\n\u001b[1;32m----> 3\u001b[0m     isa_tab \u001b[38;5;241m=\u001b[39m \u001b[43misatab\u001b[49m\u001b[38;5;241;43m.\u001b[39;49m\u001b[43mload\u001b[49m\u001b[43m(\u001b[49m\u001b[43mf\u001b[49m\u001b[43m)\u001b[49m\n",
      "File \u001b[1;32m~\\Miniconda3\\envs\\python3isa\\lib\\site-packages\\isatools\\isatab.py:4902\u001b[0m, in \u001b[0;36mload\u001b[1;34m(isatab_path_or_ifile, skip_load_tables)\u001b[0m\n\u001b[0;32m   4896\u001b[0m iosrs \u001b[38;5;241m=\u001b[39m investigation\u001b[38;5;241m.\u001b[39montology_source_references\n\u001b[0;32m   4897\u001b[0m assay_tfile_df \u001b[38;5;241m=\u001b[39m read_tfile(os\u001b[38;5;241m.\u001b[39mpath\u001b[38;5;241m.\u001b[39mjoin(\n\u001b[0;32m   4898\u001b[0m     os\u001b[38;5;241m.\u001b[39mpath\u001b[38;5;241m.\u001b[39mdirname(FP\u001b[38;5;241m.\u001b[39mname), assay\u001b[38;5;241m.\u001b[39mfilename))\n\u001b[0;32m   4899\u001b[0m _, samples, other, data, processes, \\\n\u001b[0;32m   4900\u001b[0m     characteristic_categories, \\\n\u001b[0;32m   4901\u001b[0m     unit_categories \u001b[38;5;241m=\u001b[39m \\\n\u001b[1;32m-> 4902\u001b[0m     \u001b[43mProcessSequenceFactory\u001b[49m\u001b[43m(\u001b[49m\n\u001b[0;32m   4903\u001b[0m \u001b[43m        \u001b[49m\u001b[43montology_sources\u001b[49m\u001b[38;5;241;43m=\u001b[39;49m\u001b[43miosrs\u001b[49m\u001b[43m,\u001b[49m\n\u001b[0;32m   4904\u001b[0m \u001b[43m        \u001b[49m\u001b[43mstudy_samples\u001b[49m\u001b[38;5;241;43m=\u001b[39;49m\u001b[43mstudy\u001b[49m\u001b[38;5;241;43m.\u001b[39;49m\u001b[43msamples\u001b[49m\u001b[43m,\u001b[49m\n\u001b[0;32m   4905\u001b[0m \u001b[43m        \u001b[49m\u001b[43mstudy_protocols\u001b[49m\u001b[38;5;241;43m=\u001b[39;49m\u001b[43mstudy\u001b[49m\u001b[38;5;241;43m.\u001b[39;49m\u001b[43mprotocols\u001b[49m\u001b[43m,\u001b[49m\n\u001b[0;32m   4906\u001b[0m \u001b[43m        \u001b[49m\u001b[43mstudy_factors\u001b[49m\u001b[38;5;241;43m=\u001b[39;49m\u001b[43mstudy\u001b[49m\u001b[38;5;241;43m.\u001b[39;49m\u001b[43mfactors\u001b[49m\u001b[43m)\u001b[49m\u001b[38;5;241;43m.\u001b[39;49m\u001b[43mcreate_from_df\u001b[49m\u001b[43m(\u001b[49m\n\u001b[0;32m   4907\u001b[0m \u001b[43m        \u001b[49m\u001b[43massay_tfile_df\u001b[49m\u001b[43m)\u001b[49m\n\u001b[0;32m   4908\u001b[0m assay\u001b[38;5;241m.\u001b[39msamples \u001b[38;5;241m=\u001b[39m \u001b[38;5;28msorted\u001b[39m(\n\u001b[0;32m   4909\u001b[0m     \u001b[38;5;28mlist\u001b[39m(samples\u001b[38;5;241m.\u001b[39mvalues()), key\u001b[38;5;241m=\u001b[39m\u001b[38;5;28;01mlambda\u001b[39;00m x: x\u001b[38;5;241m.\u001b[39mname,\n\u001b[0;32m   4910\u001b[0m     reverse\u001b[38;5;241m=\u001b[39m\u001b[38;5;28;01mFalse\u001b[39;00m)\n\u001b[0;32m   4911\u001b[0m assay\u001b[38;5;241m.\u001b[39mother_material \u001b[38;5;241m=\u001b[39m \u001b[38;5;28msorted\u001b[39m(\n\u001b[0;32m   4912\u001b[0m     \u001b[38;5;28mlist\u001b[39m(other\u001b[38;5;241m.\u001b[39mvalues()), key\u001b[38;5;241m=\u001b[39m\u001b[38;5;28;01mlambda\u001b[39;00m x: x\u001b[38;5;241m.\u001b[39mname,\n\u001b[0;32m   4913\u001b[0m     reverse\u001b[38;5;241m=\u001b[39m\u001b[38;5;28;01mFalse\u001b[39;00m)\n",
      "File \u001b[1;32m~\\Miniconda3\\envs\\python3isa\\lib\\site-packages\\isatools\\isatab.py:5770\u001b[0m, in \u001b[0;36mProcessSequenceFactory.create_from_df\u001b[1;34m(self, DF)\u001b[0m\n\u001b[0;32m   5768\u001b[0m     category \u001b[38;5;241m=\u001b[39m param_hits[\u001b[38;5;241m0\u001b[39m]\n\u001b[0;32m   5769\u001b[0m \u001b[38;5;28;01melse\u001b[39;00m:\n\u001b[1;32m-> 5770\u001b[0m     \u001b[38;5;28;01mraise\u001b[39;00m \u001b[38;5;167;01mValueError\u001b[39;00m(\n\u001b[0;32m   5771\u001b[0m         \u001b[38;5;124m'\u001b[39m\u001b[38;5;124mCould not resolve Protocol parameter \u001b[39m\u001b[38;5;124m'\u001b[39m\n\u001b[0;32m   5772\u001b[0m         \u001b[38;5;124m'\u001b[39m\u001b[38;5;124mfrom Parameter Value \u001b[39m\u001b[38;5;124m'\u001b[39m, category_key)\n\u001b[0;32m   5774\u001b[0m parameter_value \u001b[38;5;241m=\u001b[39m ParameterValue(category\u001b[38;5;241m=\u001b[39mcategory)\n\u001b[0;32m   5775\u001b[0m v, u \u001b[38;5;241m=\u001b[39m get_value(\n\u001b[0;32m   5776\u001b[0m     pv_column, column_group, object_series,\n\u001b[0;32m   5777\u001b[0m     ontology_source_map, unit_categories)\n",
      "\u001b[1;31mValueError\u001b[0m: ('Could not resolve Protocol parameter from Parameter Value ', 'Mass Analyzer')"
     ]
    }
   ],
   "source": [
    "from isatools import isatab\n",
    "with open(\"isa_template/i_investigation.txt\") as f:\n",
    "    isa_tab = isatab.load(f)"
   ]
  }
 ],
 "metadata": {
  "kernelspec": {
   "display_name": "Python [conda env:python3isa] *",
   "language": "python",
   "name": "conda-env-python3isa-py"
  },
  "language_info": {
   "codemirror_mode": {
    "name": "ipython",
    "version": 3
   },
   "file_extension": ".py",
   "mimetype": "text/x-python",
   "name": "python",
   "nbconvert_exporter": "python",
   "pygments_lexer": "ipython3",
   "version": "3.9.6"
  }
 },
 "nbformat": 4,
 "nbformat_minor": 5
}
